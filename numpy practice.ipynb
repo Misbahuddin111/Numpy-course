{
 "cells": [
  {
   "cell_type": "code",
   "execution_count": 1,
   "id": "9360ae95",
   "metadata": {},
   "outputs": [],
   "source": [
    "import pandas as pd\n",
    "import numpy as np"
   ]
  },
  {
   "cell_type": "code",
   "execution_count": 57,
   "id": "496a4ae4",
   "metadata": {},
   "outputs": [],
   "source": [
    "# 1d and 2D array\n",
    "oneD = np.array([1,2,3,])\n",
    "twoD = np.array([[1,2,3],[4,5,6]])\n"
   ]
  },
  {
   "cell_type": "code",
   "execution_count": 58,
   "id": "0c15d497",
   "metadata": {},
   "outputs": [],
   "source": [
    "# one and zero and reshape\n",
    "ones = np.ones((2,3))\n",
    "zeros = np.zeros((3,3))\n"
   ]
  },
  {
   "cell_type": "code",
   "execution_count": 59,
   "id": "c714203b",
   "metadata": {},
   "outputs": [
    {
     "data": {
      "text/plain": [
       "array([[0.60793577, 0.37773191, 0.17436608, 0.1550198 ],\n",
       "       [0.08886179, 0.29336043, 0.86524284, 0.92241715],\n",
       "       [0.53402909, 0.2904355 , 0.76517819, 0.75824644]])"
      ]
     },
     "execution_count": 59,
     "metadata": {},
     "output_type": "execute_result"
    }
   ],
   "source": [
    "# random \n",
    "random_val = np.random.random((3,4))\n",
    "random_val"
   ]
  },
  {
   "cell_type": "code",
   "execution_count": 60,
   "id": "9e7c33f1",
   "metadata": {},
   "outputs": [
    {
     "name": "stdout",
     "output_type": "stream",
     "text": [
      "[ 1.          2.28571429  3.57142857  4.85714286  6.14285714  7.42857143\n",
      "  8.71428571 10.        ]\n"
     ]
    }
   ],
   "source": [
    "# linespace\n",
    "print(np.linspace(1,10,8))"
   ]
  },
  {
   "cell_type": "code",
   "execution_count": 61,
   "id": "79085f32",
   "metadata": {},
   "outputs": [
    {
     "data": {
      "text/plain": [
       "array([[1., 0., 0., 0.],\n",
       "       [0., 1., 0., 0.],\n",
       "       [0., 0., 1., 0.],\n",
       "       [0., 0., 0., 1.]])"
      ]
     },
     "execution_count": 61,
     "metadata": {},
     "output_type": "execute_result"
    }
   ],
   "source": [
    "# identity\n",
    "np.identity((4))"
   ]
  },
  {
   "cell_type": "code",
   "execution_count": 62,
   "id": "ee662185",
   "metadata": {},
   "outputs": [
    {
     "data": {
      "text/plain": [
       "array([[[ 1.,  2.,  3.],\n",
       "        [ 4.,  5.,  6.]],\n",
       "\n",
       "       [[ 7.,  8.,  9.],\n",
       "        [10., 11., 12.]]])"
      ]
     },
     "execution_count": 62,
     "metadata": {},
     "output_type": "execute_result"
    }
   ],
   "source": [
    "# dtype  and change dtpye\n",
    "array = np.array([[[1,2,3],[4,5,6]],[[7,8,9],[10,11,12]]])\n",
    "array.dtype\n",
    "array.astype(dtype='float64')"
   ]
  },
  {
   "cell_type": "code",
   "execution_count": 63,
   "id": "ba515ff5",
   "metadata": {},
   "outputs": [],
   "source": [
    "# arthmitic operations \n",
    "a = np.arange(1,10).reshape(3,3)\n",
    "b = np.arange(11,20).reshape(3,3)"
   ]
  },
  {
   "cell_type": "code",
   "execution_count": 64,
   "id": "d1f22321",
   "metadata": {},
   "outputs": [
    {
     "data": {
      "text/plain": [
       "array([[  1,   8,  27],\n",
       "       [ 64, 125, 216],\n",
       "       [343, 512, 729]])"
      ]
     },
     "execution_count": 64,
     "metadata": {},
     "output_type": "execute_result"
    }
   ],
   "source": [
    "np.add(a,b)\n",
    "np.subtract(a,b)\n",
    "np.multiply(a,b)\n",
    "np.divide(b,a)\n",
    "np.power(a,3)"
   ]
  },
  {
   "cell_type": "code",
   "execution_count": 66,
   "id": "078b4699",
   "metadata": {},
   "outputs": [
    {
     "data": {
      "text/plain": [
       "array([[79.4 , 39.71, 98.28],\n",
       "       [10.18, 60.89, 96.33],\n",
       "       [15.55, 95.36, 87.88]])"
      ]
     },
     "execution_count": 66,
     "metadata": {},
     "output_type": "execute_result"
    }
   ],
   "source": [
    "# transpose mix and min\n",
    "array = (np.random.random((3,3))*100).round(2)\n",
    "array"
   ]
  },
  {
   "cell_type": "code",
   "execution_count": 74,
   "id": "43bd30d4",
   "metadata": {},
   "outputs": [
    {
     "data": {
      "text/plain": [
       "array([[79.4 , 10.18, 15.55],\n",
       "       [39.71, 60.89, 95.36],\n",
       "       [98.28, 96.33, 87.88]])"
      ]
     },
     "execution_count": 74,
     "metadata": {},
     "output_type": "execute_result"
    }
   ],
   "source": [
    "np.min(array,axis=0)\n",
    "np.max(array,axis=1)\n",
    "np.transpose(array)"
   ]
  },
  {
   "cell_type": "code",
   "execution_count": 11,
   "id": "0fd93f83",
   "metadata": {},
   "outputs": [
    {
     "data": {
      "text/plain": [
       "array([[ 0,  1,  2],\n",
       "       [ 6,  7,  8],\n",
       "       [12, 13, 14],\n",
       "       [18, 19, 20]])"
      ]
     },
     "execution_count": 11,
     "metadata": {},
     "output_type": "execute_result"
    }
   ],
   "source": [
    "# advance indexing\n",
    "array = np.arange(24).reshape(4,6)\n",
    "array[[2,3]]\n",
    "array[:,[0,1,2]]\n"
   ]
  },
  {
   "cell_type": "code",
   "execution_count": null,
   "id": "2f436bae",
   "metadata": {},
   "outputs": [
    {
     "data": {
      "text/plain": [
       "array([[42, 45, 69],\n",
       "       [94, 85, 17],\n",
       "       [95, 58, 72],\n",
       "       [99, 94, 64],\n",
       "       [60, 13, 83],\n",
       "       [27, 11, 26]], dtype=int32)"
      ]
     },
     "execution_count": 13,
     "metadata": {},
     "output_type": "execute_result"
    }
   ],
   "source": [
    "array = np.random.randint(1,100,18).reshape(6,3)\n"
   ]
  },
  {
   "cell_type": "code",
   "execution_count": 14,
   "id": "9e74f619",
   "metadata": {},
   "outputs": [
    {
     "data": {
      "text/plain": [
       "array([42, 45, 69, 94, 85, 95, 58, 72, 99, 94, 64, 60, 83], dtype=int32)"
      ]
     },
     "execution_count": 14,
     "metadata": {},
     "output_type": "execute_result"
    }
   ],
   "source": [
    "array[array>30]"
   ]
  },
  {
   "cell_type": "code",
   "execution_count": null,
   "id": "0f7f362b",
   "metadata": {},
   "outputs": [
    {
     "data": {
      "text/plain": [
       "array([[27, 11, 17],\n",
       "       [42, 13, 26],\n",
       "       [60, 45, 64],\n",
       "       [94, 58, 69],\n",
       "       [95, 85, 72],\n",
       "       [99, 94, 83]], dtype=int32)"
      ]
     },
     "execution_count": 16,
     "metadata": {},
     "output_type": "execute_result"
    }
   ],
   "source": [
    "# sort method by rows and columns\n",
    "np.sort(array,axis=0)"
   ]
  },
  {
   "cell_type": "code",
   "execution_count": 25,
   "id": "9f73a672",
   "metadata": {},
   "outputs": [
    {
     "data": {
      "text/plain": [
       "array([[ 0,  1,  2,  9, 10, 11],\n",
       "       [ 3,  4,  5, 12, 13, 14],\n",
       "       [ 6,  7,  8, 15, 16, 17]])"
      ]
     },
     "execution_count": 25,
     "metadata": {},
     "output_type": "execute_result"
    }
   ],
   "source": [
    "# concatenating\n",
    "array1 = np.arange(9).reshape(3,3)\n",
    "array2 = np.arange(9,18).reshape(3,3)\n",
    "np.concatenate((array1,array2),axis=1)"
   ]
  },
  {
   "cell_type": "code",
   "execution_count": 26,
   "id": "6cc2d907",
   "metadata": {},
   "outputs": [
    {
     "name": "stdout",
     "output_type": "stream",
     "text": [
      "\n",
      "Array with duplicates: [1 1 2 2 3 3 4 4 5 5 6 6]\n",
      "Unique values: [1 2 3 4 5 6]\n"
     ]
    }
   ],
   "source": [
    "# Key Concept: Extracting unique elements\n",
    "# Unique: np.unique() returns sorted unique elements, removing duplicates\n",
    "e = np.array([1, 1, 2, 2, 3, 3, 4, 4, 5, 5, 6, 6])\n",
    "print(\"\\nArray with duplicates:\", e)\n",
    "print(\"Unique values:\", np.unique(e))"
   ]
  },
  {
   "cell_type": "code",
   "execution_count": 27,
   "id": "198fcc39",
   "metadata": {},
   "outputs": [
    {
     "name": "stdout",
     "output_type": "stream",
     "text": [
      "\n",
      "Original array: [ 1  2  3  4  5  6  7  8  9 10 11 12 13 14 15 16 17 18 19 20 21 22 23 24]\n",
      "Original shape: (24,)\n",
      "Shape after expand_dims: (24, 1)\n",
      "\n",
      "Indices where arr > 19: (array([19, 20, 21, 22, 23]),)\n",
      "Indices where arr is even: (array([ 1,  3,  5,  7,  9, 11, 13, 15, 17, 19, 21, 23]),)\n",
      "Replace arr > 6 with 0: [1 2 3 4 5 6 0 0 0 0 0 0 0 0 0 0 0 0 0 0 0 0 0 0]\n",
      "Replace even numbers with 0: [ 1  0  3  0  5  0  7  0  9  0 11  0 13  0 15  0 17  0 19  0 21  0 23  0]\n"
     ]
    }
   ],
   "source": [
    "# Key Concept: Expanding array dimensions\n",
    "# Expand dims: np.expand_dims() adds a new axis, changing array shape (e.g., 1D to 2D)\n",
    "arr = np.arange(1, 25)\n",
    "print(\"\\nOriginal array:\", arr)\n",
    "print(\"Original shape:\", arr.shape)\n",
    "print(\"Shape after expand_dims:\", np.expand_dims(arr, axis=1).shape)  # Add column dimension\n",
    "\n",
    "# Key Concept: Conditional indexing and replacement\n",
    "# Where: np.where() finds indices or replaces values based on a condition\n",
    "print(\"\\nIndices where arr > 19:\", np.where(arr > 19))  # Indices of values > 19\n",
    "print(\"Indices where arr is even:\", np.where(arr % 2 == 0))  # Indices of even numbers\n",
    "print(\"Replace arr > 6 with 0:\", np.where(arr > 6, 0, arr))  # Replace >6 with 0\n",
    "print(\"Replace even numbers with 0:\", np.where(arr % 2 == 0, 0, arr))  # Replace evens with 0"
   ]
  },
  {
   "cell_type": "code",
   "execution_count": 28,
   "id": "15ad94bc",
   "metadata": {},
   "outputs": [
    {
     "name": "stdout",
     "output_type": "stream",
     "text": [
      "\n",
      "Index of maximum value: 23\n",
      "Index of minimum value: 0\n"
     ]
    }
   ],
   "source": [
    "# Key Concept: Finding indices of max/min values\n",
    "# Argmax/Argmin: np.argmax() and np.argmin() return indices of max and min values\n",
    "print(\"\\nIndex of maximum value:\", np.argmax(arr))\n",
    "print(f\"Index of minimum value: {np.argmin(arr)}\")"
   ]
  },
  {
   "cell_type": "code",
   "execution_count": 29,
   "id": "4a7b8774",
   "metadata": {},
   "outputs": [
    {
     "name": "stdout",
     "output_type": "stream",
     "text": [
      "\n",
      "Original array: [ 1  2  3  4  5  6  7  8  9 10 11 12 13 14 15 16 17 18 19 20 21 22 23 24]\n",
      "50th percentile (median): 12.5\n"
     ]
    }
   ],
   "source": [
    "# Key Concept: Calculating percentiles\n",
    "# Percentile: np.percentile() computes the nth percentile (e.g., median at 50%)\n",
    "print(\"\\nOriginal array:\", arr)\n",
    "print(f\"50th percentile (median): {np.percentile(arr, 50)}\")\n"
   ]
  }
 ],
 "metadata": {
  "kernelspec": {
   "display_name": "Python 3",
   "language": "python",
   "name": "python3"
  },
  "language_info": {
   "codemirror_mode": {
    "name": "ipython",
    "version": 3
   },
   "file_extension": ".py",
   "mimetype": "text/x-python",
   "name": "python",
   "nbconvert_exporter": "python",
   "pygments_lexer": "ipython3",
   "version": "3.11.9"
  }
 },
 "nbformat": 4,
 "nbformat_minor": 5
}
